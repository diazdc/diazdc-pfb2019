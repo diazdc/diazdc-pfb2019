{
 "cells": [
  {
   "cell_type": "markdown",
   "metadata": {},
   "source": [
    "<img src=\"https://jupyter.org/assets/main-logo.svg\" width=\"25%\" height=\"25%\" />\n",
    "\n",
    "<br/>\n",
    "\n",
    "# Interactive Coding With [Jupyter Lab](https://jupyterlab.readthedocs.io/en/stable/)\n",
    "\n",
    "## What is interactive coding, and why is it useful?\n",
    "\n",
    "Up to this point you've been executing your code as program from the command line to achieve your final results. There are scenarios, particularly in data analysis, where you need to frequently adjust parameters to search for meaningful patterns. Sourcing a script to change a single parameter can be time consuming, especially if you have commands that require a large amount of CPU time. Interactive coding is simply running your scripts line-by-line with with the interpreter, but it's usually accomplished with the aid of program that allows you to send text from your editor to the interpreter.\n",
    "\n",
    "[From wikipedia:](https://en.wikipedia.org/wiki/List_of_programming_languages_by_type#Interactive_mode_languages)\n",
    "_Interactive mode languages act as a kind of shell: expressions or statements can be entered one at a time, and the result of their evaluation is seen immediately. The interactive mode is also known as a REPL (read–eval–print loop)._\n",
    "\n",
    "## Good coding practice alert\n",
    "\n",
    "You should **always** ensure that your code runs, and generates **reproducible results**, when run from source (i.e. executed from the command line). When you code interactively, it can be easy to assign variable out of order. \n"
   ]
  },
  {
   "cell_type": "code",
   "execution_count": 30,
   "metadata": {},
   "outputs": [],
   "source": [
    "import os\n",
    "os.getcwd()\n",
    "os.chdir('/Users/ddiaz/Documents/diazdc-pfb2019/')"
   ]
  },
  {
   "cell_type": "markdown",
   "metadata": {},
   "source": [
    "##### Complex slicing patterns"
   ]
  },
  {
   "cell_type": "code",
   "execution_count": 31,
   "metadata": {},
   "outputs": [
    {
     "data": {
      "text/html": [
       "<div>\n",
       "<style scoped>\n",
       "    .dataframe tbody tr th:only-of-type {\n",
       "        vertical-align: middle;\n",
       "    }\n",
       "\n",
       "    .dataframe tbody tr th {\n",
       "        vertical-align: top;\n",
       "    }\n",
       "\n",
       "    .dataframe thead th {\n",
       "        text-align: right;\n",
       "    }\n",
       "</style>\n",
       "<table border=\"1\" class=\"dataframe\">\n",
       "  <thead>\n",
       "    <tr style=\"text-align: right;\">\n",
       "      <th></th>\n",
       "      <th>n_genes</th>\n",
       "      <th>orig_ident</th>\n",
       "      <th>tree_ident</th>\n",
       "      <th>louvain</th>\n",
       "    </tr>\n",
       "    <tr>\n",
       "      <th>index</th>\n",
       "      <th></th>\n",
       "      <th></th>\n",
       "      <th></th>\n",
       "      <th></th>\n",
       "    </tr>\n",
       "  </thead>\n",
       "  <tbody>\n",
       "    <tr>\n",
       "      <td>AAACCTGAGCACCGCT-1_1</td>\n",
       "      <td>928</td>\n",
       "      <td>1</td>\n",
       "      <td>7</td>\n",
       "      <td>0</td>\n",
       "    </tr>\n",
       "    <tr>\n",
       "      <td>AAACCTGCACATTCGA-1_2</td>\n",
       "      <td>894</td>\n",
       "      <td>1</td>\n",
       "      <td>9</td>\n",
       "      <td>2</td>\n",
       "    </tr>\n",
       "    <tr>\n",
       "      <td>AAACCTGCAGGGTTAG-1_3</td>\n",
       "      <td>1025</td>\n",
       "      <td>1</td>\n",
       "      <td>14</td>\n",
       "      <td>8</td>\n",
       "    </tr>\n",
       "    <tr>\n",
       "      <td>AAACCTGCATGCCTTC-1_4</td>\n",
       "      <td>1438</td>\n",
       "      <td>1</td>\n",
       "      <td>12</td>\n",
       "      <td>1</td>\n",
       "    </tr>\n",
       "    <tr>\n",
       "      <td>AAACCTGGTTGAACTC-1_5</td>\n",
       "      <td>1277</td>\n",
       "      <td>1</td>\n",
       "      <td>6</td>\n",
       "      <td>10</td>\n",
       "    </tr>\n",
       "  </tbody>\n",
       "</table>\n",
       "</div>"
      ],
      "text/plain": [
       "                      n_genes  orig_ident  tree_ident  louvain\n",
       "index                                                         \n",
       "AAACCTGAGCACCGCT-1_1      928           1           7        0\n",
       "AAACCTGCACATTCGA-1_2      894           1           9        2\n",
       "AAACCTGCAGGGTTAG-1_3     1025           1          14        8\n",
       "AAACCTGCATGCCTTC-1_4     1438           1          12        1\n",
       "AAACCTGGTTGAACTC-1_5     1277           1           6       10"
      ]
     },
     "execution_count": 31,
     "metadata": {},
     "output_type": "execute_result"
    }
   ],
   "source": [
    "# the method r_ allows us to slice with multiple ranges\n",
    "from numpy import r_\n",
    "\n",
    "# Let's see what it returns before we slice our data frame\n",
    "pd.np.r_[1:2, 4, 5:7]\n",
    "\n",
    "# With column names\n",
    "cell_attributes.columns.values[pd.np.r_[1:2, 4, 5:7]]\n",
    "\n",
    "# With the first 5 rows of the data frame\n",
    "cell_attributes.iloc[:5,pd.np.r_[1:3, 5:7]]"
   ]
  },
  {
   "cell_type": "markdown",
   "metadata": {},
   "source": [
    "### Ordering dataframes by column values\n",
    "\n",
    "Here we'll take look at ordering our data by a particular column value, or multiple column values."
   ]
  },
  {
   "cell_type": "code",
   "execution_count": 32,
   "metadata": {},
   "outputs": [
    {
     "data": {
      "text/html": [
       "<div>\n",
       "<style scoped>\n",
       "    .dataframe tbody tr th:only-of-type {\n",
       "        vertical-align: middle;\n",
       "    }\n",
       "\n",
       "    .dataframe tbody tr th {\n",
       "        vertical-align: top;\n",
       "    }\n",
       "\n",
       "    .dataframe thead th {\n",
       "        text-align: right;\n",
       "    }\n",
       "</style>\n",
       "<table border=\"1\" class=\"dataframe\">\n",
       "  <thead>\n",
       "    <tr style=\"text-align: right;\">\n",
       "      <th></th>\n",
       "      <th>n_counts</th>\n",
       "      <th>n_genes</th>\n",
       "      <th>percent_mito</th>\n",
       "      <th>tree_ident</th>\n",
       "    </tr>\n",
       "    <tr>\n",
       "      <th>index</th>\n",
       "      <th></th>\n",
       "      <th></th>\n",
       "      <th></th>\n",
       "      <th></th>\n",
       "    </tr>\n",
       "  </thead>\n",
       "  <tbody>\n",
       "    <tr>\n",
       "      <td>AAAGTAGTCACCACCT-1_23</td>\n",
       "      <td>6873</td>\n",
       "      <td>1876</td>\n",
       "      <td>0.018055</td>\n",
       "      <td>1</td>\n",
       "    </tr>\n",
       "    <tr>\n",
       "      <td>AAAGTAGGTGCAGACA-1_22</td>\n",
       "      <td>3671</td>\n",
       "      <td>1326</td>\n",
       "      <td>0.045244</td>\n",
       "      <td>1</td>\n",
       "    </tr>\n",
       "    <tr>\n",
       "      <td>AAATGCCCACTGCCAG-1_24</td>\n",
       "      <td>1478</td>\n",
       "      <td>680</td>\n",
       "      <td>0.078751</td>\n",
       "      <td>1</td>\n",
       "    </tr>\n",
       "    <tr>\n",
       "      <td>AAAGTAGAGGTCATCT-1_20</td>\n",
       "      <td>4106</td>\n",
       "      <td>1527</td>\n",
       "      <td>0.017317</td>\n",
       "      <td>2</td>\n",
       "    </tr>\n",
       "    <tr>\n",
       "      <td>AAACGGGTCCACGTGG-1_8</td>\n",
       "      <td>5586</td>\n",
       "      <td>2022</td>\n",
       "      <td>0.006445</td>\n",
       "      <td>3</td>\n",
       "    </tr>\n",
       "    <tr>\n",
       "      <td>AAAGATGCACGAAATA-1_10</td>\n",
       "      <td>1879</td>\n",
       "      <td>822</td>\n",
       "      <td>0.019702</td>\n",
       "      <td>3</td>\n",
       "    </tr>\n",
       "    <tr>\n",
       "      <td>AAATGCCGTATTCGTG-1_25</td>\n",
       "      <td>3129</td>\n",
       "      <td>1107</td>\n",
       "      <td>0.017589</td>\n",
       "      <td>4</td>\n",
       "    </tr>\n",
       "    <tr>\n",
       "      <td>AAAGCAACACAGATTC-1_15</td>\n",
       "      <td>3206</td>\n",
       "      <td>1263</td>\n",
       "      <td>0.009054</td>\n",
       "      <td>5</td>\n",
       "    </tr>\n",
       "    <tr>\n",
       "      <td>AAACCTGGTTGAACTC-1_5</td>\n",
       "      <td>2765</td>\n",
       "      <td>1277</td>\n",
       "      <td>0.010138</td>\n",
       "      <td>6</td>\n",
       "    </tr>\n",
       "    <tr>\n",
       "      <td>AAACCTGTCACCTTAT-1_6</td>\n",
       "      <td>2771</td>\n",
       "      <td>1144</td>\n",
       "      <td>0.019530</td>\n",
       "      <td>7</td>\n",
       "    </tr>\n",
       "    <tr>\n",
       "      <td>AAACCTGAGCACCGCT-1_1</td>\n",
       "      <td>1980</td>\n",
       "      <td>928</td>\n",
       "      <td>0.026781</td>\n",
       "      <td>7</td>\n",
       "    </tr>\n",
       "    <tr>\n",
       "      <td>AAAGATGCATCGATTG-1_11</td>\n",
       "      <td>1135</td>\n",
       "      <td>566</td>\n",
       "      <td>0.056537</td>\n",
       "      <td>7</td>\n",
       "    </tr>\n",
       "    <tr>\n",
       "      <td>AAAGCAAAGATGCCAG-1_14</td>\n",
       "      <td>3953</td>\n",
       "      <td>1414</td>\n",
       "      <td>0.013411</td>\n",
       "      <td>8</td>\n",
       "    </tr>\n",
       "    <tr>\n",
       "      <td>AAAGATGGTCTTTCAT-1_13</td>\n",
       "      <td>2540</td>\n",
       "      <td>982</td>\n",
       "      <td>0.027964</td>\n",
       "      <td>8</td>\n",
       "    </tr>\n",
       "    <tr>\n",
       "      <td>AAAGATGGTACACCGC-1_12</td>\n",
       "      <td>1181</td>\n",
       "      <td>542</td>\n",
       "      <td>0.034716</td>\n",
       "      <td>8</td>\n",
       "    </tr>\n",
       "    <tr>\n",
       "      <td>AAACCTGCACATTCGA-1_2</td>\n",
       "      <td>2238</td>\n",
       "      <td>894</td>\n",
       "      <td>0.024150</td>\n",
       "      <td>9</td>\n",
       "    </tr>\n",
       "    <tr>\n",
       "      <td>AAAGCAATCGTAGATC-1_18</td>\n",
       "      <td>1647</td>\n",
       "      <td>830</td>\n",
       "      <td>0.019465</td>\n",
       "      <td>11</td>\n",
       "    </tr>\n",
       "    <tr>\n",
       "      <td>AAAGTAGGTAAGTGGC-1_21</td>\n",
       "      <td>1217</td>\n",
       "      <td>545</td>\n",
       "      <td>0.047658</td>\n",
       "      <td>11</td>\n",
       "    </tr>\n",
       "    <tr>\n",
       "      <td>AAACCTGCATGCCTTC-1_4</td>\n",
       "      <td>3437</td>\n",
       "      <td>1438</td>\n",
       "      <td>0.012529</td>\n",
       "      <td>12</td>\n",
       "    </tr>\n",
       "    <tr>\n",
       "      <td>AAAGCAACACGGCGTT-1_16</td>\n",
       "      <td>1355</td>\n",
       "      <td>563</td>\n",
       "      <td>0.056911</td>\n",
       "      <td>12</td>\n",
       "    </tr>\n",
       "    <tr>\n",
       "      <td>AACACGTGTATCAGTC-1_27</td>\n",
       "      <td>2586</td>\n",
       "      <td>1150</td>\n",
       "      <td>0.006961</td>\n",
       "      <td>13</td>\n",
       "    </tr>\n",
       "    <tr>\n",
       "      <td>AAAGATGCAAGGACTG-1_9</td>\n",
       "      <td>1904</td>\n",
       "      <td>831</td>\n",
       "      <td>0.025223</td>\n",
       "      <td>13</td>\n",
       "    </tr>\n",
       "    <tr>\n",
       "      <td>AAAGTAGAGAATAGGG-1_19</td>\n",
       "      <td>1187</td>\n",
       "      <td>544</td>\n",
       "      <td>0.021922</td>\n",
       "      <td>13</td>\n",
       "    </tr>\n",
       "    <tr>\n",
       "      <td>AAACCTGCAGGGTTAG-1_3</td>\n",
       "      <td>2839</td>\n",
       "      <td>1025</td>\n",
       "      <td>0.005640</td>\n",
       "      <td>14</td>\n",
       "    </tr>\n",
       "    <tr>\n",
       "      <td>AACACGTCAAGCGATG-1_26</td>\n",
       "      <td>1460</td>\n",
       "      <td>671</td>\n",
       "      <td>0.030864</td>\n",
       "      <td>14</td>\n",
       "    </tr>\n",
       "  </tbody>\n",
       "</table>\n",
       "</div>"
      ],
      "text/plain": [
       "                       n_counts  n_genes  percent_mito  tree_ident\n",
       "index                                                             \n",
       "AAAGTAGTCACCACCT-1_23      6873     1876      0.018055           1\n",
       "AAAGTAGGTGCAGACA-1_22      3671     1326      0.045244           1\n",
       "AAATGCCCACTGCCAG-1_24      1478      680      0.078751           1\n",
       "AAAGTAGAGGTCATCT-1_20      4106     1527      0.017317           2\n",
       "AAACGGGTCCACGTGG-1_8       5586     2022      0.006445           3\n",
       "AAAGATGCACGAAATA-1_10      1879      822      0.019702           3\n",
       "AAATGCCGTATTCGTG-1_25      3129     1107      0.017589           4\n",
       "AAAGCAACACAGATTC-1_15      3206     1263      0.009054           5\n",
       "AAACCTGGTTGAACTC-1_5       2765     1277      0.010138           6\n",
       "AAACCTGTCACCTTAT-1_6       2771     1144      0.019530           7\n",
       "AAACCTGAGCACCGCT-1_1       1980      928      0.026781           7\n",
       "AAAGATGCATCGATTG-1_11      1135      566      0.056537           7\n",
       "AAAGCAAAGATGCCAG-1_14      3953     1414      0.013411           8\n",
       "AAAGATGGTCTTTCAT-1_13      2540      982      0.027964           8\n",
       "AAAGATGGTACACCGC-1_12      1181      542      0.034716           8\n",
       "AAACCTGCACATTCGA-1_2       2238      894      0.024150           9\n",
       "AAAGCAATCGTAGATC-1_18      1647      830      0.019465          11\n",
       "AAAGTAGGTAAGTGGC-1_21      1217      545      0.047658          11\n",
       "AAACCTGCATGCCTTC-1_4       3437     1438      0.012529          12\n",
       "AAAGCAACACGGCGTT-1_16      1355      563      0.056911          12\n",
       "AACACGTGTATCAGTC-1_27      2586     1150      0.006961          13\n",
       "AAAGATGCAAGGACTG-1_9       1904      831      0.025223          13\n",
       "AAAGTAGAGAATAGGG-1_19      1187      544      0.021922          13\n",
       "AAACCTGCAGGGTTAG-1_3       2839     1025      0.005640          14\n",
       "AACACGTCAAGCGATG-1_26      1460      671      0.030864          14"
      ]
     },
     "execution_count": 32,
     "metadata": {},
     "output_type": "execute_result"
    }
   ],
   "source": [
    "# Let's make a smaller dataset to work with\n",
    "cell_df_sub = cell_attributes.iloc[:25,[0,1,3,5]]\n",
    "\n",
    "# Set ascending=True to reverse the order\n",
    "cell_df_sub.sort_values('n_counts', ascending=False)\n",
    "\n",
    "# Sort by multiple columns in different directions\n",
    "cell_df_sub.sort_values(by=['tree_ident', 'n_counts'], ascending=[True, False])"
   ]
  },
  {
   "cell_type": "markdown",
   "metadata": {},
   "source": [
    "### Subsetting data by condition\n",
    "\n",
    "Understanding how to subset your data using conditional operations is *very*, _very_ useful. You'll often encounter situations where you want to filter your data on a certain set of parameters to reduce it to a more \"meaningful\" state."
   ]
  },
  {
   "cell_type": "code",
   "execution_count": 33,
   "metadata": {},
   "outputs": [
    {
     "data": {
      "text/html": [
       "<div>\n",
       "<style scoped>\n",
       "    .dataframe tbody tr th:only-of-type {\n",
       "        vertical-align: middle;\n",
       "    }\n",
       "\n",
       "    .dataframe tbody tr th {\n",
       "        vertical-align: top;\n",
       "    }\n",
       "\n",
       "    .dataframe thead th {\n",
       "        text-align: right;\n",
       "    }\n",
       "</style>\n",
       "<table border=\"1\" class=\"dataframe\">\n",
       "  <thead>\n",
       "    <tr style=\"text-align: right;\">\n",
       "      <th></th>\n",
       "      <th>n_counts</th>\n",
       "      <th>n_genes</th>\n",
       "      <th>percent_mito</th>\n",
       "      <th>tree_ident</th>\n",
       "    </tr>\n",
       "    <tr>\n",
       "      <th>index</th>\n",
       "      <th></th>\n",
       "      <th></th>\n",
       "      <th></th>\n",
       "      <th></th>\n",
       "    </tr>\n",
       "  </thead>\n",
       "  <tbody>\n",
       "    <tr>\n",
       "      <td>AAAGTAGGTGCAGACA-1_22</td>\n",
       "      <td>3671</td>\n",
       "      <td>1326</td>\n",
       "      <td>0.045244</td>\n",
       "      <td>1</td>\n",
       "    </tr>\n",
       "    <tr>\n",
       "      <td>AAAGTAGTCACCACCT-1_23</td>\n",
       "      <td>6873</td>\n",
       "      <td>1876</td>\n",
       "      <td>0.018055</td>\n",
       "      <td>1</td>\n",
       "    </tr>\n",
       "    <tr>\n",
       "      <td>AAATGCCCACTGCCAG-1_24</td>\n",
       "      <td>1478</td>\n",
       "      <td>680</td>\n",
       "      <td>0.078751</td>\n",
       "      <td>1</td>\n",
       "    </tr>\n",
       "  </tbody>\n",
       "</table>\n",
       "</div>"
      ],
      "text/plain": [
       "                       n_counts  n_genes  percent_mito  tree_ident\n",
       "index                                                             \n",
       "AAAGTAGGTGCAGACA-1_22      3671     1326      0.045244           1\n",
       "AAAGTAGTCACCACCT-1_23      6873     1876      0.018055           1\n",
       "AAATGCCCACTGCCAG-1_24      1478      680      0.078751           1"
      ]
     },
     "execution_count": 33,
     "metadata": {},
     "output_type": "execute_result"
    }
   ],
   "source": [
    "# Subsetting on a single condition\n",
    "cell_df_sub.loc[(cell_df_sub['tree_ident'] == 1),]"
   ]
  },
  {
   "cell_type": "markdown",
   "metadata": {},
   "source": [
    "In the example below we chain boolean operators together to achieve results that satisfy multiple conditions. You can make these statments complex as you'd like.\n",
    "\n",
    "Note: Pandas uses the bitwise logical operators (see earlier lecture). A pipe symbol `|`  represents `or`, and an ampersand symbol `&`  represents `and`. The backslashes in code simply allow us to break up our statement at arbitrary points for readbility."
   ]
  },
  {
   "cell_type": "code",
   "execution_count": 34,
   "metadata": {},
   "outputs": [
    {
     "data": {
      "text/html": [
       "<div>\n",
       "<style scoped>\n",
       "    .dataframe tbody tr th:only-of-type {\n",
       "        vertical-align: middle;\n",
       "    }\n",
       "\n",
       "    .dataframe tbody tr th {\n",
       "        vertical-align: top;\n",
       "    }\n",
       "\n",
       "    .dataframe thead th {\n",
       "        text-align: right;\n",
       "    }\n",
       "</style>\n",
       "<table border=\"1\" class=\"dataframe\">\n",
       "  <thead>\n",
       "    <tr style=\"text-align: right;\">\n",
       "      <th></th>\n",
       "      <th>n_counts</th>\n",
       "      <th>n_genes</th>\n",
       "      <th>percent_mito</th>\n",
       "      <th>tree_ident</th>\n",
       "    </tr>\n",
       "    <tr>\n",
       "      <th>index</th>\n",
       "      <th></th>\n",
       "      <th></th>\n",
       "      <th></th>\n",
       "      <th></th>\n",
       "    </tr>\n",
       "  </thead>\n",
       "  <tbody>\n",
       "    <tr>\n",
       "      <td>AAAGTAGAGGTCATCT-1_20</td>\n",
       "      <td>4106</td>\n",
       "      <td>1527</td>\n",
       "      <td>0.017317</td>\n",
       "      <td>2</td>\n",
       "    </tr>\n",
       "    <tr>\n",
       "      <td>AAAGTAGGTGCAGACA-1_22</td>\n",
       "      <td>3671</td>\n",
       "      <td>1326</td>\n",
       "      <td>0.045244</td>\n",
       "      <td>1</td>\n",
       "    </tr>\n",
       "    <tr>\n",
       "      <td>AAAGTAGTCACCACCT-1_23</td>\n",
       "      <td>6873</td>\n",
       "      <td>1876</td>\n",
       "      <td>0.018055</td>\n",
       "      <td>1</td>\n",
       "    </tr>\n",
       "    <tr>\n",
       "      <td>AAATGCCCACTGCCAG-1_24</td>\n",
       "      <td>1478</td>\n",
       "      <td>680</td>\n",
       "      <td>0.078751</td>\n",
       "      <td>1</td>\n",
       "    </tr>\n",
       "  </tbody>\n",
       "</table>\n",
       "</div>"
      ],
      "text/plain": [
       "                       n_counts  n_genes  percent_mito  tree_ident\n",
       "index                                                             \n",
       "AAAGTAGAGGTCATCT-1_20      4106     1527      0.017317           2\n",
       "AAAGTAGGTGCAGACA-1_22      3671     1326      0.045244           1\n",
       "AAAGTAGTCACCACCT-1_23      6873     1876      0.018055           1\n",
       "AAATGCCCACTGCCAG-1_24      1478      680      0.078751           1"
      ]
     },
     "execution_count": 34,
     "metadata": {},
     "output_type": "execute_result"
    }
   ],
   "source": [
    "# Subsetting on multiple conditions.\n",
    "cell_df_sub.loc[\n",
    "    (cell_df_sub['tree_ident'] == 1) | \\\n",
    "    (cell_df_sub['tree_ident'] == 2) & \\\n",
    "    (cell_df_sub['n_genes'] > 1000),]"
   ]
  },
  {
   "cell_type": "markdown",
   "metadata": {},
   "source": [
    "What's actually going on here? The rows in the data frame are actually subsetted on a vector of True/False statements. That is, for every row for which the condition evaluates to True will be returned. If we examine the boolean statements placed within `cell_df_sub.loc[]`, you can see why this is occuring."
   ]
  },
  {
   "cell_type": "code",
   "execution_count": 35,
   "metadata": {},
   "outputs": [
    {
     "data": {
      "text/plain": [
       "index\n",
       "AAACCTGAGCACCGCT-1_1     False\n",
       "AAACCTGCACATTCGA-1_2     False\n",
       "AAACCTGCAGGGTTAG-1_3     False\n",
       "AAACCTGCATGCCTTC-1_4     False\n",
       "AAACCTGGTTGAACTC-1_5     False\n",
       "AAACCTGTCACCTTAT-1_6     False\n",
       "AAACGGGTCCACGTGG-1_8     False\n",
       "AAAGATGCAAGGACTG-1_9     False\n",
       "AAAGATGCACGAAATA-1_10    False\n",
       "AAAGATGCATCGATTG-1_11    False\n",
       "AAAGATGGTACACCGC-1_12    False\n",
       "AAAGATGGTCTTTCAT-1_13    False\n",
       "AAAGCAAAGATGCCAG-1_14    False\n",
       "AAAGCAACACAGATTC-1_15    False\n",
       "AAAGCAACACGGCGTT-1_16    False\n",
       "AAAGCAATCGTAGATC-1_18    False\n",
       "AAAGTAGAGAATAGGG-1_19    False\n",
       "AAAGTAGAGGTCATCT-1_20    False\n",
       "AAAGTAGGTAAGTGGC-1_21    False\n",
       "AAAGTAGGTGCAGACA-1_22     True\n",
       "AAAGTAGTCACCACCT-1_23     True\n",
       "AAATGCCCACTGCCAG-1_24     True\n",
       "AAATGCCGTATTCGTG-1_25    False\n",
       "AACACGTCAAGCGATG-1_26    False\n",
       "AACACGTGTATCAGTC-1_27    False\n",
       "dtype: bool"
      ]
     },
     "execution_count": 35,
     "metadata": {},
     "output_type": "execute_result"
    }
   ],
   "source": [
    "cell_df_sub['tree_ident'] == 1 | \\\n",
    "    (cell_df_sub['tree_ident'] == 2) & \\\n",
    "    (cell_df_sub['n_genes'] > 1000)"
   ]
  },
  {
   "cell_type": "markdown",
   "metadata": {},
   "source": [
    "### Performing mathmatical operations on vectors\n",
    "\n",
    "Lets look at a couple examples where we apply caculations to our data frame. First lets calculate some summary statistics. This can be a useful when viewing our results for the first time to get a handle on how our data is distributed."
   ]
  },
  {
   "cell_type": "code",
   "execution_count": 36,
   "metadata": {},
   "outputs": [
    {
     "data": {
      "text/plain": [
       "count      25.000000\n",
       "mean     2644.920000\n",
       "std      1420.687302\n",
       "min      1135.000000\n",
       "25%      1478.000000\n",
       "50%      2540.000000\n",
       "75%      3206.000000\n",
       "max      6873.000000\n",
       "Name: n_counts, dtype: float64"
      ]
     },
     "execution_count": 36,
     "metadata": {},
     "output_type": "execute_result"
    }
   ],
   "source": [
    "# Returning summary statistics for all columns\n",
    "cell_df_sub.describe()\n",
    "\n",
    "# Returning summary statistics for a single column\n",
    "cell_df_sub.loc[:,'n_counts'].describe()"
   ]
  },
  {
   "cell_type": "markdown",
   "metadata": {
    "jupyter": {
     "source_hidden": true
    }
   },
   "source": [
    "`n_counts` refers to the number of counts for \"unique molecular identifiers\", which are barcodes for individual transcripts within in a single cell. Ideally, if the number of `n_counts` is high, then the number of genes per cell should also be high. The number of genes per cell is in the `n_genes` column. Lets see if this observation holds true by calculating the pairwise correlation between these two variables. \n",
    "\n"
   ]
  },
  {
   "cell_type": "code",
   "execution_count": 37,
   "metadata": {},
   "outputs": [
    {
     "data": {
      "text/html": [
       "<div>\n",
       "<style scoped>\n",
       "    .dataframe tbody tr th:only-of-type {\n",
       "        vertical-align: middle;\n",
       "    }\n",
       "\n",
       "    .dataframe tbody tr th {\n",
       "        vertical-align: top;\n",
       "    }\n",
       "\n",
       "    .dataframe thead th {\n",
       "        text-align: right;\n",
       "    }\n",
       "</style>\n",
       "<table border=\"1\" class=\"dataframe\">\n",
       "  <thead>\n",
       "    <tr style=\"text-align: right;\">\n",
       "      <th></th>\n",
       "      <th>n_counts</th>\n",
       "      <th>n_genes</th>\n",
       "    </tr>\n",
       "  </thead>\n",
       "  <tbody>\n",
       "    <tr>\n",
       "      <td>n_counts</td>\n",
       "      <td>1.000000</td>\n",
       "      <td>0.960371</td>\n",
       "    </tr>\n",
       "    <tr>\n",
       "      <td>n_genes</td>\n",
       "      <td>0.960371</td>\n",
       "      <td>1.000000</td>\n",
       "    </tr>\n",
       "  </tbody>\n",
       "</table>\n",
       "</div>"
      ],
      "text/plain": [
       "          n_counts   n_genes\n",
       "n_counts  1.000000  0.960371\n",
       "n_genes   0.960371  1.000000"
      ]
     },
     "execution_count": 37,
     "metadata": {},
     "output_type": "execute_result"
    }
   ],
   "source": [
    "# Simply add the .corr() method to your dataframe subset\n",
    "cell_df_sub.loc[:,['n_counts','n_genes']].corr()"
   ]
  },
  {
   "cell_type": "markdown",
   "metadata": {},
   "source": [
    "That summarizes our introduction to Pandas. As you can see, Pandas greatly simplifies the process of exploring and making calculations in data frames and matricies. Check out the link below for the offical documentation.\n",
    "\n",
    "[**Pandas Documentation**](https://pandas.pydata.org/pandas-docs/stable/index.html)"
   ]
  },
  {
   "cell_type": "markdown",
   "metadata": {},
   "source": [
    "# Shell commands in IPython\n",
    "\n",
    "[_Adapted from the Python Data Science Handbook_](https://github.com/jakevdp/PythonDataScienceHandbook/blob/master/notebooks/01.05-IPython-And-Shell-Commands.ipynb)\n",
    "\n",
    "Jupyter Lab uses a special conosle called [IPython](https://ipython.org/). IPython has a ton of interesting features (you can read about them [here]()), but one of the most useful features is the ability to run bash command in the IPython console without any extra modules. You simply need to prepend your bash command with a `!`."
   ]
  },
  {
   "cell_type": "code",
   "execution_count": 38,
   "metadata": {},
   "outputs": [
    {
     "name": "stdout",
     "output_type": "stream",
     "text": [
      "Jupyter_Lab_intro.ipynb \u001b[34mPython\u001b[m\u001b[m                  gitouttahere.sh\n",
      "Pandas.md               README.md               meta_data.csv\n",
      "Pandas_example.py       \u001b[34mUnix2\u001b[m\u001b[m                   sample_script.py\n",
      "/Users/ddiaz/Documents/diazdc-pfb2019\n",
      "printing from the shell\n"
     ]
    }
   ],
   "source": [
    "!ls\n",
    "\n",
    "!pwd\n",
    "\n",
    "!echo \"printing from the shell\""
   ]
  },
  {
   "cell_type": "code",
   "execution_count": 39,
   "metadata": {},
   "outputs": [
    {
     "name": "stdout",
     "output_type": "stream",
     "text": [
      "['Jupyter_Lab_intro.ipynb', 'Pandas.md', 'Pandas_example.py', 'Python', 'README.md', 'Unix2', 'gitouttahere.sh', 'meta_data.csv', 'sample_script.py']\n",
      "['/Users/ddiaz/Documents/diazdc-pfb2019']\n"
     ]
    },
    {
     "data": {
      "text/plain": [
       "IPython.utils.text.SList"
      ]
     },
     "execution_count": 39,
     "metadata": {},
     "output_type": "execute_result"
    }
   ],
   "source": [
    "contents = !ls\n",
    "print(contents)\n",
    "\n",
    "directory = !pwd\n",
    "print(directory)\n",
    "\n",
    "type(directory)"
   ]
  },
  {
   "cell_type": "code",
   "execution_count": null,
   "metadata": {},
   "outputs": [],
   "source": []
  }
 ],
 "metadata": {
  "kernelspec": {
   "display_name": "Python 3",
   "language": "python",
   "name": "python3"
  },
  "language_info": {
   "codemirror_mode": {
    "name": "ipython",
    "version": 3
   },
   "file_extension": ".py",
   "mimetype": "text/x-python",
   "name": "python",
   "nbconvert_exporter": "python",
   "pygments_lexer": "ipython3",
   "version": "3.7.3"
  }
 },
 "nbformat": 4,
 "nbformat_minor": 4
}
