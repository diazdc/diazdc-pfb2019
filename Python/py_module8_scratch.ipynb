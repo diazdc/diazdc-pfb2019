{
 "cells": [
  {
   "cell_type": "code",
   "execution_count": 5,
   "metadata": {},
   "outputs": [],
   "source": [
    "import os\n",
    "os.getcwd()\n",
    "os.chdir('/Users/ddiaz/Documents/diazdc-pfb2019/Python/data')"
   ]
  },
  {
   "cell_type": "markdown",
   "metadata": {},
   "source": [
    "Python 8 - Data Structures -Problem Set\n",
    "===================\n",
    "\n",
    "__Don't forget to use a small test data set when you are testing your code. Make sure you know what the correct answer should be__\n"
   ]
  },
  {
   "cell_type": "markdown",
   "metadata": {},
   "source": [
    "1. Take a multi-FASTA [Python_08.fasta](https://raw.githubusercontent.com/prog4biol/pfb2019/master/files/Python_08.fasta) file from user input and calculate the nucleotide composition for each sequence. Use a datastructure to keep count. Print out each sequence name and its compostion in this format `seqName\\tA_count\\tT_count\\tG_count\\C_count`\n",
    "\n",
    "Here is a structure of a handy datastructure to store this information\n",
    "\n",
    "```\n",
    "seqs[geneName][nucleotide]=count\n",
    "\n",
    "seqs['geneA']['A'] = 2\n",
    "seqs['geneA']['T'] = 3\n",
    "seqs['geneA']['G'] = 3\n",
    "seqs['geneA']['C'] = 1\n",
    "\n",
    "\n",
    "seqs['geneB']['A'] = 1\n",
    "seqs['geneB']['T'] = 5\n",
    "seqs['geneB']['G'] = 2\n",
    "seqs['geneB']['C'] = 2\n",
    "``` "
   ]
  },
  {
   "cell_type": "code",
   "execution_count": 4,
   "metadata": {},
   "outputs": [
    {
     "ename": "FileNotFoundError",
     "evalue": "[Errno 2] No such file or directory: '-f'",
     "output_type": "error",
     "traceback": [
      "\u001b[0;31m---------------------------------------------------------------------------\u001b[0m",
      "\u001b[0;31mFileNotFoundError\u001b[0m                         Traceback (most recent call last)",
      "\u001b[0;32m<ipython-input-4-ad34febc41d4>\u001b[0m in \u001b[0;36m<module>\u001b[0;34m\u001b[0m\n\u001b[1;32m      2\u001b[0m \u001b[0;34m\u001b[0m\u001b[0m\n\u001b[1;32m      3\u001b[0m \u001b[0mfasta_filename\u001b[0m \u001b[0;34m=\u001b[0m \u001b[0msys\u001b[0m\u001b[0;34m.\u001b[0m\u001b[0margv\u001b[0m\u001b[0;34m[\u001b[0m\u001b[0;36m1\u001b[0m\u001b[0;34m]\u001b[0m\u001b[0;34m\u001b[0m\u001b[0;34m\u001b[0m\u001b[0m\n\u001b[0;32m----> 4\u001b[0;31m \u001b[0mfasta_filehandle\u001b[0m \u001b[0;34m=\u001b[0m \u001b[0mopen\u001b[0m\u001b[0;34m(\u001b[0m\u001b[0mfasta_filename\u001b[0m\u001b[0;34m,\u001b[0m \u001b[0;34m'r'\u001b[0m\u001b[0;34m)\u001b[0m\u001b[0;34m\u001b[0m\u001b[0;34m\u001b[0m\u001b[0m\n\u001b[0m\u001b[1;32m      5\u001b[0m \u001b[0msequence_composition\u001b[0m \u001b[0;34m=\u001b[0m \u001b[0mdict\u001b[0m\u001b[0;34m(\u001b[0m\u001b[0;34m)\u001b[0m\u001b[0;34m\u001b[0m\u001b[0;34m\u001b[0m\u001b[0m\n\u001b[1;32m      6\u001b[0m \u001b[0msequence_id\u001b[0m \u001b[0;34m=\u001b[0m \u001b[0;32mNone\u001b[0m\u001b[0;34m\u001b[0m\u001b[0;34m\u001b[0m\u001b[0m\n",
      "\u001b[0;31mFileNotFoundError\u001b[0m: [Errno 2] No such file or directory: '-f'"
     ]
    }
   ],
   "source": [
    "import sys\n",
    "\n",
    "fasta_filename = sys.argv[1]\n",
    "fasta_filehandle = open(fasta_filename, 'r')\n",
    "sequence_composition = dict()\n",
    "sequence_id = None\n",
    "\n",
    "for line in fasta_filehandle:\n",
    "    line = line.rstrip()\n",
    "    if line.startswith('>'):\n",
    "        sequence_def = line.lstrip('>').split(' ', maxsplit=1)\n",
    "        sequence_id = sequence_def[0]\n",
    "        sequence_composition[sequence_id] = {\n",
    "            'A': 0, 'T': 0, 'G': 0, 'C': 0}    \n",
    "    else:\n",
    "        for nucleotide in line:\n",
    "            sequence_composition[sequence_id][nucleotide] += 1\n",
    "\n",
    "print(\"seqName\\tA_count\\tT_count\\tG_count\\tC_count\")\n",
    "for sequence_id in sequence_composition:\n",
    "    # The nucleotide counts are integers, but we want to\n",
    "    # print tab-delimited values, which means we need the\n",
    "    # counts in str form:\n",
    "    print('\\t'.join((\n",
    "        sequence_id,\n",
    "        str(sequence_composition[sequence_id]['A']),\n",
    "        str(sequence_composition[sequence_id]['C']),\n",
    "        str(sequence_composition[sequence_id]['G']),\n",
    "        str(sequence_composition[sequence_id]['T'])\n",
    "    )))"
   ]
  },
  {
   "cell_type": "markdown",
   "metadata": {},
   "source": [
    "2. Write a script that takes a multi-FASTA file [Python_08.fasta](https://raw.githubusercontent.com/prog4biol/pfb2019/master/files/Python_08.fasta) from user input and breaks each sequence into codons (every three nucleotides is a codon) in just the first reading frame. Your output should look like this\n",
    "```\n",
    "seq1-frame-1-codons\n",
    "CAT GCT TGA GTC\n",
    "```\n",
    "Write the output to a file called 'Python_08.codons-frame-1.nt'."
   ]
  },
  {
   "cell_type": "code",
   "execution_count": null,
   "metadata": {},
   "outputs": [],
   "source": []
  },
  {
   "cell_type": "markdown",
   "metadata": {},
   "source": [
    "3. Now produce codons in the first three reading frames for each sequence and print out ids and sequence records for each frame and print to a file called 'Python_08.codons-3frames.nt'\n",
    "\n",
    "For example\n",
    "```\n",
    "seq1-frame-1-codons\n",
    "ATG TTG\n",
    "seq-frame-2-codons\n",
    "TGT TGA\n",
    "``` "
   ]
  },
  {
   "cell_type": "code",
   "execution_count": null,
   "metadata": {},
   "outputs": [],
   "source": []
  },
  {
   "cell_type": "markdown",
   "metadata": {},
   "source": [
    "4. Now reverse complement each sequence and print out all six reading frames to a file called 'Python_08.codons-6frames.nt'"
   ]
  },
  {
   "cell_type": "code",
   "execution_count": null,
   "metadata": {},
   "outputs": [],
   "source": []
  },
  {
   "cell_type": "markdown",
   "metadata": {},
   "source": [
    "5. Translate each of the six reading frames into amino acids. Create one file for which you print the six reading frames (Python_08.codons-6frames.nt) and one file for which you print the translation of the six reading frames (Python_08.translated.aa). Use the following translation table:\n",
    "\n",
    "```python\n",
    "translation_table = {\n",
    "    'GCT':'A', 'GCC':'A', 'GCA':'A', 'GCG':'A',\n",
    "    'CGT':'R', 'CGC':'R', 'CGA':'R', 'CGG':'R', 'AGA':'R', 'AGG':'R',\n",
    "    'AAT':'N', 'AAC':'N',\n",
    "    'GAT':'D', 'GAC':'D',\n",
    "    'TGT':'C', 'TGC':'C',\n",
    "    'CAA':'Q', 'CAG':'Q',\n",
    "    'GAA':'E', 'GAG':'E',\n",
    "    'GGT':'G', 'GGC':'G', 'GGA':'G', 'GGG':'G',\n",
    "    'CAT':'H', 'CAC':'H',\n",
    "    'ATT':'I', 'ATC':'I', 'ATA':'I',\n",
    "    'TTA':'L', 'TTG':'L', 'CTT':'L', 'CTC':'L', 'CTA':'L', 'CTG':'L',\n",
    "    'AAA':'K', 'AAG':'K',\n",
    "    'ATG':'M',\n",
    "    'TTT':'F', 'TTC':'F',\n",
    "    'CCT':'P', 'CCC':'P', 'CCA':'P', 'CCG':'P',\n",
    "    'TCT':'S', 'TCC':'S', 'TCA':'S', 'TCG':'S', 'AGT':'S', 'AGC':'S',\n",
    "    'ACT':'T', 'ACC':'T', 'ACA':'T', 'ACG':'T',\n",
    "    'TGG':'W',\n",
    "    'TAT':'Y', 'TAC':'Y',\n",
    "    'GTT':'V', 'GTC':'V', 'GTA':'V', 'GTG':'V',\n",
    "    'TAA':'*', 'TGA':'*', 'TAG':'*'\n",
    "}\n",
    "```"
   ]
  },
  {
   "cell_type": "code",
   "execution_count": null,
   "metadata": {},
   "outputs": [],
   "source": []
  },
  {
   "cell_type": "markdown",
   "metadata": {},
   "source": [
    "6. Find the longest peptide sequence (M => Stop) of all the six translated reading frames for a single sequence. Do this for all the sequence records. For each sequence, print out in FASTA format the six frames of codons to one file (Python_08.codons-6frames.nt), the translations to a second file (Python_08.translated.aa), and the single longest translated peptide to a third file (Python_08.translated-longest.aa)."
   ]
  },
  {
   "cell_type": "code",
   "execution_count": null,
   "metadata": {},
   "outputs": [],
   "source": []
  },
  {
   "cell_type": "markdown",
   "metadata": {},
   "source": [
    "7. Finally determine which subset of codons produced the longest peptide for each sequence record. Print this to a fourth file in FASTA format (Python_08.orf-longest.nt)."
   ]
  },
  {
   "cell_type": "code",
   "execution_count": null,
   "metadata": {},
   "outputs": [],
   "source": []
  }
 ],
 "metadata": {
  "kernelspec": {
   "display_name": "Python 3",
   "language": "python",
   "name": "python3"
  },
  "language_info": {
   "codemirror_mode": {
    "name": "ipython",
    "version": 3
   },
   "file_extension": ".py",
   "mimetype": "text/x-python",
   "name": "python",
   "nbconvert_exporter": "python",
   "pygments_lexer": "ipython3",
   "version": "3.7.3"
  }
 },
 "nbformat": 4,
 "nbformat_minor": 4
}
